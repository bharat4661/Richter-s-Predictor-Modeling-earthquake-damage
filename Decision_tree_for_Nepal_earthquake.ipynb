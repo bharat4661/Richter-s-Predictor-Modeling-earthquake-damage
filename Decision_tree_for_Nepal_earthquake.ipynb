{
  "nbformat": 4,
  "nbformat_minor": 0,
  "metadata": {
    "colab": {
      "name": "Decision_tree_for_Nepal_earthquake",
      "version": "0.3.2",
      "provenance": [],
      "collapsed_sections": []
    },
    "kernelspec": {
      "name": "python3",
      "display_name": "Python 3"
    },
    "accelerator": "GPU"
  },
  "cells": [
    {
      "cell_type": "code",
      "metadata": {
        "id": "_zs9ZwgPNsls",
        "colab_type": "code",
        "colab": {}
      },
      "source": [
        "%matplotlib inline\n",
        "import numpy as np\n",
        "import pandas as pd\n",
        "import time\n",
        "import matplotlib.pyplot as plt\n",
        "import seaborn as sns\n",
        "from xgboost import XGBClassifier\n",
        "from sklearn.metrics import confusion_matrix\n",
        "pd.set_option('display.max_columns', 38)\n",
        "DATA_DIR = \"C:/Users/patri/Desktop/WIP Python/Richter's Predictor\"\n",
        "from sklearn.preprocessing import Imputer\n",
        "from sklearn.neighbors import KNeighborsRegressor\n",
        "from sklearn.metrics import  mean_squared_error\n",
        "import math"
      ],
      "execution_count": 0,
      "outputs": []
    },
    {
      "cell_type": "code",
      "metadata": {
        "id": "oSkoGmbcQycT",
        "colab_type": "code",
        "colab": {}
      },
      "source": [
        "train_values = pd.read_csv('train_values.csv', index_col=None)\n",
        "pre=pd.read_csv('test_values.csv', index_col=None)\n",
        "\n",
        "train_labels = pd.read_csv('train_labels.csv', index_col=None)"
      ],
      "execution_count": 0,
      "outputs": []
    },
    {
      "cell_type": "code",
      "metadata": {
        "id": "NigkW-exRK8K",
        "colab_type": "code",
        "colab": {}
      },
      "source": [
        "x=pd.get_dummies(train_values)\n",
        "pre=pd.get_dummies(pre)"
      ],
      "execution_count": 0,
      "outputs": []
    },
    {
      "cell_type": "code",
      "metadata": {
        "id": "HVJid7QwT400",
        "colab_type": "code",
        "colab": {}
      },
      "source": [
        "y=train_labels\n",
        "y=y.iloc[:,1:]"
      ],
      "execution_count": 0,
      "outputs": []
    },
    {
      "cell_type": "code",
      "metadata": {
        "id": "OzuTRHxjUIYk",
        "colab_type": "code",
        "colab": {}
      },
      "source": [
        "#Splitting the dataset into thr Training set and Test set\n",
        "from sklearn.model_selection import train_test_split\n",
        "x_train, x_test, y_train, y_test = train_test_split(x,y,test_size = 0.20)"
      ],
      "execution_count": 0,
      "outputs": []
    },
    {
      "cell_type": "code",
      "metadata": {
        "id": "SNinxRZSUVwM",
        "colab_type": "code",
        "outputId": "547b81f4-2096-46ee-d1d0-9c4882adfa51",
        "colab": {
          "base_uri": "https://localhost:8080/",
          "height": 126
        }
      },
      "source": [
        "# Import the classifier from sklearn\n",
        "from sklearn.tree import DecisionTreeClassifier\n",
        "\n",
        "#Define the classifier, and fit it to the data\n",
        "model = DecisionTreeClassifier()\n",
        "model.fit(x_train,y_train)"
      ],
      "execution_count": 0,
      "outputs": [
        {
          "output_type": "execute_result",
          "data": {
            "text/plain": [
              "DecisionTreeClassifier(class_weight=None, criterion='gini', max_depth=None,\n",
              "                       max_features=None, max_leaf_nodes=None,\n",
              "                       min_impurity_decrease=0.0, min_impurity_split=None,\n",
              "                       min_samples_leaf=1, min_samples_split=2,\n",
              "                       min_weight_fraction_leaf=0.0, presort=False,\n",
              "                       random_state=None, splitter='best')"
            ]
          },
          "metadata": {
            "tags": []
          },
          "execution_count": 50
        }
      ]
    },
    {
      "cell_type": "code",
      "metadata": {
        "id": "CCtevTZCUixV",
        "colab_type": "code",
        "outputId": "4bf8f656-c10a-4368-bb5e-eaf04c02c297",
        "colab": {
          "base_uri": "https://localhost:8080/",
          "height": 54
        }
      },
      "source": [
        "# Making predictions\n",
        "y_train_pred = model.predict(x_train)\n",
        "y_test_pred = model.predict(x_test)\n",
        "\n",
        "# Calculate the accuracy\n",
        "from sklearn.metrics import accuracy_score\n",
        "train_accuracy = accuracy_score(y_train, y_train_pred)\n",
        "test_accuracy = accuracy_score(y_test_pred,y_test)\n",
        "print('The training accuracy is', train_accuracy)\n",
        "print('The test accuracy is', test_accuracy)"
      ],
      "execution_count": 0,
      "outputs": [
        {
          "output_type": "stream",
          "text": [
            "The training accuracy is 1.0\n",
            "The test accuracy is 0.6438095968995222\n"
          ],
          "name": "stdout"
        }
      ]
    },
    {
      "cell_type": "code",
      "metadata": {
        "id": "KorgIerVb6Po",
        "colab_type": "code",
        "colab": {}
      },
      "source": [
        "bharat=model.predict(pre)"
      ],
      "execution_count": 0,
      "outputs": []
    },
    {
      "cell_type": "code",
      "metadata": {
        "id": "YEzRfMS3VdG1",
        "colab_type": "code",
        "colab": {}
      },
      "source": [
        "c=pd.read_csv('submission_format.csv',index_col='building_id')"
      ],
      "execution_count": 0,
      "outputs": []
    },
    {
      "cell_type": "code",
      "metadata": {
        "id": "NNrxeWJIcgHN",
        "colab_type": "code",
        "outputId": "8069568b-8cfa-4ea6-a6bd-84ef5fb37e25",
        "colab": {
          "base_uri": "https://localhost:8080/",
          "height": 35
        }
      },
      "source": [
        "# testing accuracy\n",
        "z=accuracy_score(bharat,c)\n",
        "print(z)"
      ],
      "execution_count": 0,
      "outputs": [
        {
          "output_type": "stream",
          "text": [
            "0.09941520467836257\n"
          ],
          "name": "stdout"
        }
      ]
    },
    {
      "cell_type": "code",
      "metadata": {
        "id": "m-icpJtVdhvk",
        "colab_type": "code",
        "colab": {}
      },
      "source": [
        "submission_format=pd.DataFrame(data=bharat,columns=c.columns,index=c.index)"
      ],
      "execution_count": 0,
      "outputs": []
    },
    {
      "cell_type": "code",
      "metadata": {
        "id": "s7cN2xWsc3Gk",
        "colab_type": "code",
        "colab": {}
      },
      "source": [
        "submission_format.to_csv('final.csv')"
      ],
      "execution_count": 0,
      "outputs": []
    },
    {
      "cell_type": "code",
      "metadata": {
        "id": "R5HZCDGufQiY",
        "colab_type": "code",
        "colab": {}
      },
      "source": [
        ""
      ],
      "execution_count": 0,
      "outputs": []
    }
  ]
}