{
  "nbformat": 4,
  "nbformat_minor": 0,
  "metadata": {
    "colab": {
      "name": "knn_for_Nepal_earthquake",
      "version": "0.3.2",
      "provenance": [],
      "collapsed_sections": []
    },
    "kernelspec": {
      "name": "python3",
      "display_name": "Python 3"
    },
    "accelerator": "GPU"
  },
  "cells": [
    {
      "cell_type": "code",
      "metadata": {
        "id": "M2-y8lZnqDpL",
        "colab_type": "code",
        "colab": {}
      },
      "source": [
        "%matplotlib inline\n",
        "import numpy as np\n",
        "import pandas as pd\n",
        "import time\n",
        "import matplotlib.pyplot as plt\n",
        "import seaborn as sns\n",
        "from xgboost import XGBClassifier\n",
        "from sklearn.metrics import confusion_matrix\n",
        "pd.set_option('display.max_columns', 38)\n",
        "DATA_DIR = \"C:/Users/patri/Desktop/WIP Python/Richter's Predictor\"\n",
        "from sklearn.preprocessing import Imputer\n",
        "from sklearn.neighbors import KNeighborsRegressor\n",
        "from sklearn.metrics import  mean_squared_error,f1_score,r2_score\n",
        "import math"
      ],
      "execution_count": 0,
      "outputs": []
    },
    {
      "cell_type": "code",
      "metadata": {
        "id": "A4AgA7rhqY1N",
        "colab_type": "code",
        "colab": {}
      },
      "source": [
        "train_values = pd.read_csv('train_values.csv', index_col=None)\n",
        "pre=pd.read_csv('test_values.csv', index_col=None)\n",
        "\n",
        "train_labels = pd.read_csv('train_labels.csv', index_col=None)"
      ],
      "execution_count": 0,
      "outputs": []
    },
    {
      "cell_type": "code",
      "metadata": {
        "id": "lBnQ16XDqYxj",
        "colab_type": "code",
        "colab": {}
      },
      "source": [
        "x=pd.get_dummies(train_values)\n",
        "pre=pd.get_dummies(pre)"
      ],
      "execution_count": 0,
      "outputs": []
    },
    {
      "cell_type": "code",
      "metadata": {
        "id": "C3swjYkdqYuv",
        "colab_type": "code",
        "colab": {}
      },
      "source": [
        "y=train_labels\n",
        "y=y.iloc[:,1:]"
      ],
      "execution_count": 0,
      "outputs": []
    },
    {
      "cell_type": "code",
      "metadata": {
        "id": "svErkmq4qYVW",
        "colab_type": "code",
        "colab": {}
      },
      "source": [
        "#Splitting the dataset into thr Training set and Test set\n",
        "from sklearn.model_selection import train_test_split\n",
        "x_train, x_test, y_train, y_test = train_test_split(x,y,test_size = 0.20)"
      ],
      "execution_count": 0,
      "outputs": []
    },
    {
      "cell_type": "code",
      "metadata": {
        "id": "zupkm0UmqYSd",
        "colab_type": "code",
        "outputId": "03542775-edd1-4091-b865-d05392d7d8c2",
        "colab": {
          "base_uri": "https://localhost:8080/",
          "height": 187
        }
      },
      "source": [
        "for K in range(10):\n",
        "    K_value = K+1\n",
        "    neigh = KNeighborsRegressor(n_neighbors = K_value )\n",
        "    neigh.fit(x_train, y_train) \n",
        "    y_pred = neigh.predict(x_test)\n",
        "    print(\"RMSE is \",np.sqrt(mean_squared_error(y_pred, y_test)),\" for K-Value:\",K_value)"
      ],
      "execution_count": 0,
      "outputs": [
        {
          "output_type": "stream",
          "text": [
            "RMSE is  0.86285431267223  for K-Value: 1\n",
            "RMSE is  0.7453416918698023  for K-Value: 2\n",
            "RMSE is  0.7045523929928906  for K-Value: 3\n",
            "RMSE is  0.6812491193519115  for K-Value: 4\n",
            "RMSE is  0.6678282060293395  for K-Value: 5\n",
            "RMSE is  0.6581556545451269  for K-Value: 6\n",
            "RMSE is  0.6523787019920365  for K-Value: 7\n",
            "RMSE is  0.6468288970598931  for K-Value: 8\n",
            "RMSE is  0.6428216073149072  for K-Value: 9\n",
            "RMSE is  0.6398320753969279  for K-Value: 10\n"
          ],
          "name": "stdout"
        }
      ]
    },
    {
      "cell_type": "code",
      "metadata": {
        "id": "EEEjXmgSqYPu",
        "colab_type": "code",
        "colab": {}
      },
      "source": [
        "in_sample_preds=neigh.predict(x_test)"
      ],
      "execution_count": 0,
      "outputs": []
    },
    {
      "cell_type": "code",
      "metadata": {
        "id": "q-i5IyAuqYKp",
        "colab_type": "code",
        "outputId": "73e6933d-5837-4a4e-adcd-fee1996faa34",
        "colab": {
          "base_uri": "https://localhost:8080/",
          "height": 34
        }
      },
      "source": [
        "print(\"R Squared for Random Forest Regressor is \",r2_score(y_test,in_sample_preds))"
      ],
      "execution_count": 0,
      "outputs": [
        {
          "output_type": "stream",
          "text": [
            "R Squared for Random Forest Regressor is  -0.09057620567484448\n"
          ],
          "name": "stdout"
        }
      ]
    },
    {
      "cell_type": "code",
      "metadata": {
        "id": "n3JcQsPJr7O2",
        "colab_type": "code",
        "colab": {}
      },
      "source": [
        "for i in ans:\n",
        "  if i>0 and i<1.5:\n",
        "    i"
      ],
      "execution_count": 0,
      "outputs": []
    }
  ]
}